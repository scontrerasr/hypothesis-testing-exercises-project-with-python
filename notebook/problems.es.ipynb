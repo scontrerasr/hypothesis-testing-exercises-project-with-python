{
 "cells": [
  {
   "cell_type": "markdown",
   "id": "d9d036c6",
   "metadata": {},
   "source": [
    "# Problemas de prueba de hipótesis"
   ]
  },
  {
   "cell_type": "markdown",
   "id": "d157c4db",
   "metadata": {},
   "source": [
    "## Ejercicio 1\n",
    "\n",
    "Usted es un nutricionista que investiga dos tipos diferentes de dietas para ver si existe una diferencia significativa en la pérdida de peso después de un mes. Eliges dos grupos aleatorios de personas; un grupo sigue la primera dieta y el otro sigue la segunda. Al final del mes, se registra la pérdida de peso (en kg) de cada persona:\n",
    "\n",
    "| Diet 1 | Diet 2 |\n",
    "|:-------|:-------|\n",
    "| 2.0 | 3.0 |\n",
    "| 2.5 | 3.2 |\n",
    "| 3.0 | 3.1 |\n",
    "| 2.8 | 2.9 |\n",
    "| 2.3 | 2.8 |\n",
    "| 2.7 | 3.0 |\n",
    "| 2.5 | 3.2 |\n",
    "\n",
    "Con estos datos se busca responder a la siguiente pregunta: ¿Existe una diferencia significativa en la pérdida de peso promedio entre las personas que siguieron la primera dieta y las que siguieron la segunda dieta?\n",
    "\n",
    "Para sacar conclusiones, siga los siguientes puntos:\n",
    "\n",
    "-Enunciar la hipótesis: hipótesis nula y alternativa.\n",
    "-Realizar la prueba para comprobar la hipótesis. Puede utilizar la prueba t de Student.\n",
    "-Analizar las conclusiones."
   ]
  },
  {
   "cell_type": "code",
   "execution_count": 8,
   "id": "8e0f3cf0",
   "metadata": {},
   "outputs": [],
   "source": [
    "#Hipotesis:\n",
    "#Nula: no hay diferencia en el promedio de perdida de peso entre las dos dietas\n",
    "#Alternativa: Hay diferencia en el promedio de perdida de peso entre las dos dietas."
   ]
  },
  {
   "cell_type": "code",
   "execution_count": 9,
   "id": "083abadc",
   "metadata": {},
   "outputs": [
    {
     "name": "stdout",
     "output_type": "stream",
     "text": [
      "t-value: -3.5383407969933938\n",
      "p-value: 0.004083270191713912\n"
     ]
    }
   ],
   "source": [
    "import scipy.stats as stats\n",
    "\n",
    "dieta1=[2.0,2.5,3.0,2.8,2.3,2.7,2.5]\n",
    "dieta2=[3.0,3.2,3.1,2.9,2.8,3.0,3.2]\n",
    "\n",
    "t_value, p_value = stats.ttest_ind(dieta1,dieta2)\n",
    "\n",
    "print(f't-value: {t_value}')\n",
    "print(f'p-value: {p_value}')\n"
   ]
  },
  {
   "cell_type": "markdown",
   "id": "f432e18e",
   "metadata": {},
   "source": [
    "## ANOVA\n",
    "\n",
    "**ANOVA** (*Analysis of Variance - Análisis de variación*) Es una técnica estadística utilizada para comparar las medidas de dos o más grupos. La idea detrás de ANOVA es descomponer la variabilidad total de los datos en dos componentes: variabilidad entre grupos y variabilidad dentro de los grupos:\n",
    "\n",
    "- **Variabilidad entre grupos**: Esta variabilidad se refiere a las diferencias entre las medias del grupo. Si esta variabilidad es considerablemente mayor que la variabilidad dentro del grupo, podría ser una indicación de que al menos una de las medias del grupo es diferente.\n",
    "- **Variabilidad dentro del grupo**: Esta variabilidad se refiere a la dispersión de los datos dentro de cada grupo. Si todos los grupos tienen una variabilidad similar, entonces cualquier diferencia notable en las medias de los grupos podría considerarse significativa.\n",
    "\n",
    "Las hipótesis en ANOVA suelen incluir:\n",
    "\n",
    "- **Hipótesis nula** ($H₀$): Las medias de todos los grupos son iguales.\n",
    "- **Hipótesis alternativa** ($H₁$): Al menos una de las medias del grupo es diferente.\n",
    "\n",
    "Si el resultado de la prueba ANOVA es significativo (por ejemplo, un valor p inferior a un umbral como 0,05), esto sugiere que al menos la media de un grupo es diferente."
   ]
  },
  {
   "cell_type": "markdown",
   "id": "fc5f3721",
   "metadata": {},
   "source": [
    "## Ejercicio 2\n",
    "\n",
    "Un agricultor decide probar tres tipos diferentes de fertilizantes para determinar si alguno es superior en términos de producción de maíz. El agricultor planta maíz en 15 parcelas idénticas y utiliza los tres fertilizantes (5 parcelas para cada tipo). Al final de la temporada mide el rendimiento de maíz (en kg) de cada parcela, con el siguiente resultado:\n",
    "\n",
    "| Fertilizante 1 | Fertilizante 2 | Fertilizante 3 |\n",
    "|:-------------|:-------------|:-------------|\n",
    "| 20 | 22 | 24 |\n",
    "| 21 | 21 | 23 |\n",
    "| 20 | 23 | 22 |\n",
    "| 19 | 22 | 23 |\n",
    "| 20 | 21 | 24 |\n",
    "\n",
    "Con estos datos busca responder la siguiente pregunta: ¿Existe una diferencia significativa en el rendimiento promedio del maíz entre los tres tipos de fertilizantes?\n",
    "\n",
    "Para ayudarte, sigue los siguientes puntos:\n",
    "\n",
    "-Enunciar la hipótesis: hipótesis nula y alternativa.\n",
    "-Realizar la prueba ANOVA.\n",
    "-Analizar las conclusiones.\n",
    "-Si un fertilizante es mejor que otro, ¿cómo podemos saberlo?"
   ]
  },
  {
   "cell_type": "markdown",
   "id": "c2104909",
   "metadata": {},
   "source": [
    "Hipotesis:\n",
    "-Nula: No existe diferencia significativca en el promedio de rendimiento con los 3 fertilizantes\n",
    "-Alternativa: existe diferencia significativa en el promedio de rendimiento con los 3 fertilizantes"
   ]
  },
  {
   "cell_type": "code",
   "execution_count": 10,
   "id": "eecad0ca",
   "metadata": {},
   "outputs": [
    {
     "name": "stdout",
     "output_type": "stream",
     "text": [
      "Multiple Comparison of Means - Tukey HSD, FWER=0.05\n",
      "==================================================\n",
      "group1 group2 meandiff p-adj  lower  upper  reject\n",
      "--------------------------------------------------\n",
      "    F1     F2      1.8 0.0099 0.4572 3.1428   True\n",
      "    F1     F3      3.2 0.0001 1.8572 4.5428   True\n",
      "    F2     F3      1.4 0.0409 0.0572 2.7428   True\n",
      "--------------------------------------------------\n",
      "Se rechaza la hipotesis Nula\n"
     ]
    }
   ],
   "source": [
    "import numpy as np\n",
    "from statsmodels.stats.multicomp import pairwise_tukeyhsd\n",
    "\n",
    "fertilizante1=[20,21,20,19,20]\n",
    "fertilizante2=[22,21,23,22,21]\n",
    "fertilizante3=[24,23,22,23,24]\n",
    "\n",
    "data = np.concatenate([fertilizante1,fertilizante2,fertilizante3])\n",
    "etiquetas = ['F1']*5+['F2']*5+['F3']*5\n",
    "#Test Turkey\n",
    "resultado = pairwise_tukeyhsd(data, etiquetas, alpha=0.05)\n",
    "print(resultado)\n",
    "\n",
    "\n",
    "if list(resultado.reject) == [True]*3:\n",
    "    print(\"Se rechaza la hipotesis Nula\")\n",
    "else:\n",
    "    print(\"No se puede rechazar la hipotesis Nula\")"
   ]
  },
  {
   "cell_type": "code",
   "execution_count": 11,
   "id": "b6b7a792",
   "metadata": {},
   "outputs": [
    {
     "name": "stdout",
     "output_type": "stream",
     "text": [
      "La STD de Fertilizante 1 es 0.6324555320336759\n",
      "La STD de Fertilizante 2 es 0.7483314773547882\n",
      "La STD de Fertilizante 3 es 0.7483314773547882\n"
     ]
    }
   ],
   "source": [
    "## revisión de desviación estándar\n",
    "import numpy as np\n",
    "\n",
    "print(f\"La STD de Fertilizante 1 es {np.std(fertilizante1)}\")\n",
    "print(f\"La STD de Fertilizante 2 es {np.std(fertilizante2)}\")\n",
    "print(f\"La STD de Fertilizante 3 es {np.std(fertilizante3)}\")\n",
    "\n"
   ]
  },
  {
   "cell_type": "markdown",
   "id": "1ab85585",
   "metadata": {},
   "source": [
    "## Conclusión:\n",
    "Se rechaza la hipotesis nula (todos los valores de la columna Reject fueron True), lo que indica que hay diferencias significativas\n",
    "entre los fertilizantes en cuanto a su efecto en el crecimiento de las plantas.\n",
    "\n",
    "Por la relación de diferencias de medias podemos conseguir que el F2 es tiene media mayor al F1 y el F3 a su vez, tiene una media mayor que F1 y F2. Por lo que F3 tiene los mejores resultados en terminos de haber conseguido mas maiz promedio en las parselas que se uso. \n",
    "\n",
    "Con un estudio posterior se conseguió que el Fertilizante 1 es el que obtuvo los resultados mas uniformes en las parcelas, al tener una desviacion estandar menor. Pero los Fertilizantes 2 y 3 a pesar de ser igualmente menos uniformes con respecto al Fertilizante 1, su desviación estandar demostro que siguen obteniendo tambien resultados muy uniformes al variar menos de 1 kg en promedio de todos sus resultados con respecto a la media. \n",
    "\n",
    "Por lo que la recomendación de uso de fertilizantes debe ser el tercero: Mejores resultados (media mas alta) y resultados uniformes (diferencia de 0.12 kg de STD al fertilizante mas uniforme, el cual tiene una media 3.2 kg menor)\n",
    "\n",
    "\n"
   ]
  }
 ],
 "metadata": {
  "kernelspec": {
   "display_name": "base",
   "language": "python",
   "name": "python3"
  },
  "language_info": {
   "codemirror_mode": {
    "name": "ipython",
    "version": 3
   },
   "file_extension": ".py",
   "mimetype": "text/x-python",
   "name": "python",
   "nbconvert_exporter": "python",
   "pygments_lexer": "ipython3",
   "version": "3.12.7"
  }
 },
 "nbformat": 4,
 "nbformat_minor": 5
}
